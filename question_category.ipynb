{
  "nbformat": 4,
  "nbformat_minor": 0,
  "metadata": {
    "kernelspec": {
      "display_name": "Python 3",
      "language": "python",
      "name": "python3"
    },
    "language_info": {
      "codemirror_mode": {
        "name": "ipython",
        "version": 3
      },
      "file_extension": ".py",
      "mimetype": "text/x-python",
      "name": "python",
      "nbconvert_exporter": "python",
      "pygments_lexer": "ipython3",
      "version": "3.7.4"
    },
    "colab": {
      "name": "question_category.ipynb",
      "provenance": [],
      "include_colab_link": true
    }
  },
  "cells": [
    {
      "cell_type": "markdown",
      "metadata": {
        "id": "view-in-github",
        "colab_type": "text"
      },
      "source": [
        "<a href=\"https://colab.research.google.com/github/GhanshyamVariya/Anand/blob/master/question_category.ipynb\" target=\"_parent\"><img src=\"https://colab.research.google.com/assets/colab-badge.svg\" alt=\"Open In Colab\"/></a>"
      ]
    },
    {
      "cell_type": "markdown",
      "metadata": {
        "id": "7VLBiRh7b6a6",
        "colab_type": "text"
      },
      "source": [
        "### Imports"
      ]
    },
    {
      "cell_type": "code",
      "metadata": {
        "scrolled": true,
        "id": "b7SE27zWb6a9",
        "colab_type": "code",
        "colab": {}
      },
      "source": [
        "# import basics\n",
        "import string\n",
        "from collections import Counter, defaultdict\n",
        "\n",
        "# imports\n",
        "import numpy as np\n",
        "import pandas as pd\n",
        "\n",
        "# visualization\n",
        "import matplotlib.pyplot as plt \n",
        "import seaborn as sns\n",
        "\n",
        "from wordcloud import WordCloud,STOPWORDS\n",
        "\n",
        "## NLP\n",
        "from nltk.corpus import stopwords\n",
        "import nltk\n",
        "\n",
        "# word_tokenizer\n",
        "from nltk import word_tokenize\n",
        "\n",
        "# import lamitizer\n",
        "from nltk.stem import WordNetLemmatizer\n",
        "\n",
        "# import stemmer\n",
        "from nltk.stem.porter import PorterStemmer\n",
        "\n",
        "# import gensim\n",
        "from gensim.corpora.dictionary import Dictionary\n",
        "\n",
        "# import Tf-idf\n",
        "from gensim.models.tfidfmodel import TfidfModel\n",
        "\n",
        "# import spacy\n",
        "import spacy\n",
        "\n",
        "## Model\n",
        "from sklearn.model_selection import train_test_split\n",
        "from sklearn.feature_extraction.text import CountVectorizer, TfidfVectorizer\n",
        "\n",
        "# sklearn\n",
        "from sklearn.naive_bayes import MultinomialNB\n",
        "from sklearn import metrics"
      ],
      "execution_count": 0,
      "outputs": []
    },
    {
      "cell_type": "code",
      "metadata": {
        "id": "odE6Nmhmb6bI",
        "colab_type": "code",
        "colab": {}
      },
      "source": [
        "import warnings\n",
        "\n",
        "warnings.filterwarnings(action='ignore', category=UserWarning)"
      ],
      "execution_count": 0,
      "outputs": []
    },
    {
      "cell_type": "code",
      "metadata": {
        "id": "PQGQ-Y8Ib6bP",
        "colab_type": "code",
        "colab": {}
      },
      "source": [
        "sns.set()"
      ],
      "execution_count": 0,
      "outputs": []
    },
    {
      "cell_type": "markdown",
      "metadata": {
        "id": "kjtlUsedb6bV",
        "colab_type": "text"
      },
      "source": [
        "### Dataset load"
      ]
    },
    {
      "cell_type": "code",
      "metadata": {
        "id": "DYUa13THb6bX",
        "colab_type": "code",
        "colab": {}
      },
      "source": [
        "train = pd.read_csv('datasets/train.csv', encoding='latin1', index_col=0)"
      ],
      "execution_count": 0,
      "outputs": []
    },
    {
      "cell_type": "code",
      "metadata": {
        "scrolled": false,
        "id": "ueBmfHAnb6bd",
        "colab_type": "code",
        "outputId": "26228fee-995d-4b30-ef3a-bbca9cc17847",
        "colab": {}
      },
      "source": [
        "train.head()"
      ],
      "execution_count": 0,
      "outputs": [
        {
          "output_type": "execute_result",
          "data": {
            "text/html": [
              "<div>\n",
              "<style scoped>\n",
              "    .dataframe tbody tr th:only-of-type {\n",
              "        vertical-align: middle;\n",
              "    }\n",
              "\n",
              "    .dataframe tbody tr th {\n",
              "        vertical-align: top;\n",
              "    }\n",
              "\n",
              "    .dataframe thead th {\n",
              "        text-align: right;\n",
              "    }\n",
              "</style>\n",
              "<table border=\"1\" class=\"dataframe\">\n",
              "  <thead>\n",
              "    <tr style=\"text-align: right;\">\n",
              "      <th></th>\n",
              "      <th>id</th>\n",
              "      <th>question</th>\n",
              "      <th>category_id</th>\n",
              "    </tr>\n",
              "  </thead>\n",
              "  <tbody>\n",
              "    <tr>\n",
              "      <td>0</td>\n",
              "      <td>10479</td>\n",
              "      <td>When will there be a Job switch?</td>\n",
              "      <td>Career</td>\n",
              "    </tr>\n",
              "    <tr>\n",
              "      <td>2</td>\n",
              "      <td>9845</td>\n",
              "      <td>Will I ever become financially independent?</td>\n",
              "      <td>Wealth</td>\n",
              "    </tr>\n",
              "    <tr>\n",
              "      <td>4</td>\n",
              "      <td>8311</td>\n",
              "      <td>Will I become rich one day?</td>\n",
              "      <td>Wealth</td>\n",
              "    </tr>\n",
              "    <tr>\n",
              "      <td>5</td>\n",
              "      <td>14073</td>\n",
              "      <td>How many children will I have?</td>\n",
              "      <td>Family</td>\n",
              "    </tr>\n",
              "    <tr>\n",
              "      <td>6</td>\n",
              "      <td>14815</td>\n",
              "      <td>When will i get married</td>\n",
              "      <td>Partner</td>\n",
              "    </tr>\n",
              "  </tbody>\n",
              "</table>\n",
              "</div>"
            ],
            "text/plain": [
              "      id                                     question category_id\n",
              "0  10479             When will there be a Job switch?      Career\n",
              "2   9845  Will I ever become financially independent?      Wealth\n",
              "4   8311                  Will I become rich one day?      Wealth\n",
              "5  14073               How many children will I have?      Family\n",
              "6  14815                      When will i get married     Partner"
            ]
          },
          "metadata": {
            "tags": []
          },
          "execution_count": 5
        }
      ]
    },
    {
      "cell_type": "code",
      "metadata": {
        "id": "-zxx0ZROb6bk",
        "colab_type": "code",
        "colab": {}
      },
      "source": [
        "train.loc[train['category_id'] == 'Children', 'category_id'] = 'Family'\n",
        "train.loc[train['category_id'] == 'Love', 'category_id'] = 'Partner'"
      ],
      "execution_count": 0,
      "outputs": []
    },
    {
      "cell_type": "code",
      "metadata": {
        "id": "HntQUZOjb6bo",
        "colab_type": "code",
        "colab": {}
      },
      "source": [
        "train = train[train.category_id!='Daily Life']"
      ],
      "execution_count": 0,
      "outputs": []
    },
    {
      "cell_type": "code",
      "metadata": {
        "scrolled": true,
        "id": "eb-fcCglb6bt",
        "colab_type": "code",
        "outputId": "66c429c3-312d-4a27-87e0-6d9af698ffa5",
        "colab": {}
      },
      "source": [
        "train.head()"
      ],
      "execution_count": 0,
      "outputs": [
        {
          "output_type": "execute_result",
          "data": {
            "text/html": [
              "<div>\n",
              "<style scoped>\n",
              "    .dataframe tbody tr th:only-of-type {\n",
              "        vertical-align: middle;\n",
              "    }\n",
              "\n",
              "    .dataframe tbody tr th {\n",
              "        vertical-align: top;\n",
              "    }\n",
              "\n",
              "    .dataframe thead th {\n",
              "        text-align: right;\n",
              "    }\n",
              "</style>\n",
              "<table border=\"1\" class=\"dataframe\">\n",
              "  <thead>\n",
              "    <tr style=\"text-align: right;\">\n",
              "      <th></th>\n",
              "      <th>id</th>\n",
              "      <th>question</th>\n",
              "      <th>category_id</th>\n",
              "    </tr>\n",
              "  </thead>\n",
              "  <tbody>\n",
              "    <tr>\n",
              "      <td>0</td>\n",
              "      <td>10479</td>\n",
              "      <td>When will there be a Job switch?</td>\n",
              "      <td>Career</td>\n",
              "    </tr>\n",
              "    <tr>\n",
              "      <td>2</td>\n",
              "      <td>9845</td>\n",
              "      <td>Will I ever become financially independent?</td>\n",
              "      <td>Wealth</td>\n",
              "    </tr>\n",
              "    <tr>\n",
              "      <td>4</td>\n",
              "      <td>8311</td>\n",
              "      <td>Will I become rich one day?</td>\n",
              "      <td>Wealth</td>\n",
              "    </tr>\n",
              "    <tr>\n",
              "      <td>5</td>\n",
              "      <td>14073</td>\n",
              "      <td>How many children will I have?</td>\n",
              "      <td>Family</td>\n",
              "    </tr>\n",
              "    <tr>\n",
              "      <td>6</td>\n",
              "      <td>14815</td>\n",
              "      <td>When will i get married</td>\n",
              "      <td>Partner</td>\n",
              "    </tr>\n",
              "  </tbody>\n",
              "</table>\n",
              "</div>"
            ],
            "text/plain": [
              "      id                                     question category_id\n",
              "0  10479             When will there be a Job switch?      Career\n",
              "2   9845  Will I ever become financially independent?      Wealth\n",
              "4   8311                  Will I become rich one day?      Wealth\n",
              "5  14073               How many children will I have?      Family\n",
              "6  14815                      When will i get married     Partner"
            ]
          },
          "metadata": {
            "tags": []
          },
          "execution_count": 8
        }
      ]
    },
    {
      "cell_type": "code",
      "metadata": {
        "scrolled": true,
        "id": "9Ywczqbob6bz",
        "colab_type": "code",
        "outputId": "e3a6a200-7fda-42ae-e6bf-ad950c358224",
        "colab": {}
      },
      "source": [
        "# Data types of training samples\n",
        "train.dtypes"
      ],
      "execution_count": 0,
      "outputs": [
        {
          "output_type": "execute_result",
          "data": {
            "text/plain": [
              "id              int64\n",
              "question       object\n",
              "category_id    object\n",
              "dtype: object"
            ]
          },
          "metadata": {
            "tags": []
          },
          "execution_count": 9
        }
      ]
    },
    {
      "cell_type": "code",
      "metadata": {
        "id": "y1cp91W7b6b5",
        "colab_type": "code",
        "outputId": "aeb2668e-e76b-496e-8e37-1bc9d2703e97",
        "colab": {}
      },
      "source": [
        "train.info()"
      ],
      "execution_count": 0,
      "outputs": [
        {
          "output_type": "stream",
          "text": [
            "<class 'pandas.core.frame.DataFrame'>\n",
            "Int64Index: 2945 entries, 0 to 4216\n",
            "Data columns (total 3 columns):\n",
            "id             2945 non-null int64\n",
            "question       2945 non-null object\n",
            "category_id    2945 non-null object\n",
            "dtypes: int64(1), object(2)\n",
            "memory usage: 92.0+ KB\n"
          ],
          "name": "stdout"
        }
      ]
    },
    {
      "cell_type": "code",
      "metadata": {
        "id": "BJSadV9cb6b_",
        "colab_type": "code",
        "colab": {}
      },
      "source": [
        "# Category of question\n",
        "question = pd.unique(train.category_id).tolist()"
      ],
      "execution_count": 0,
      "outputs": []
    },
    {
      "cell_type": "code",
      "metadata": {
        "id": "LS6AhH60b6cD",
        "colab_type": "code",
        "outputId": "22d085ee-607a-4046-9bb9-52ddab705011",
        "colab": {}
      },
      "source": [
        "plt.hist(train['category_id'])\n",
        "plt.xticks(rotation=45)\n",
        "plt.xlabel('Question Category')\n",
        "plt.ylabel('Number of Questions')\n",
        "plt.show()"
      ],
      "execution_count": 0,
      "outputs": [
        {
          "output_type": "display_data",
          "data": {
            "image/png": "[encoded data removed]",
            "text/plain": [
              "<Figure size 432x288 with 1 Axes>"
            ]
          },
          "metadata": {
            "tags": []
          }
        }
      ]
    },
    {
      "cell_type": "code",
      "metadata": {
        "scrolled": true,
        "id": "Mzyjuyv0b6cI",
        "colab_type": "code",
        "outputId": "049e960e-0c6d-424d-f04e-b0ee93db880a",
        "colab": {}
      },
      "source": [
        "# print to get how many sample for each category\n",
        "for q in question:\n",
        "    print(\"{} : {}\".format(q, train[train['category_id']==q].shape[0]))"
      ],
      "execution_count": 0,
      "outputs": [
        {
          "output_type": "stream",
          "text": [
            "Career : 560\n",
            "Wealth : 467\n",
            "Family : 123\n",
            "Partner : 618\n",
            "Education : 255\n",
            "Spouse : 410\n",
            "Personality : 316\n",
            "Business : 116\n",
            "Spirituality : 70\n",
            "Marriage : 10\n"
          ],
          "name": "stdout"
        }
      ]
    },
    {
      "cell_type": "code",
      "metadata": {
        "id": "mn5Vmt07b6cM",
        "colab_type": "code",
        "outputId": "b5fb92f6-f989-4402-ab15-c16f510c95a2",
        "colab": {}
      },
      "source": [
        "train[train['category_id']=='Spirituality']"
      ],
      "execution_count": 0,
      "outputs": [
        {
          "output_type": "execute_result",
          "data": {
            "text/html": [
              "<div>\n",
              "<style scoped>\n",
              "    .dataframe tbody tr th:only-of-type {\n",
              "        vertical-align: middle;\n",
              "    }\n",
              "\n",
              "    .dataframe tbody tr th {\n",
              "        vertical-align: top;\n",
              "    }\n",
              "\n",
              "    .dataframe thead th {\n",
              "        text-align: right;\n",
              "    }\n",
              "</style>\n",
              "<table border=\"1\" class=\"dataframe\">\n",
              "  <thead>\n",
              "    <tr style=\"text-align: right;\">\n",
              "      <th></th>\n",
              "      <th>id</th>\n",
              "      <th>question</th>\n",
              "      <th>category_id</th>\n",
              "    </tr>\n",
              "  </thead>\n",
              "  <tbody>\n",
              "    <tr>\n",
              "      <td>284</td>\n",
              "      <td>10571</td>\n",
              "      <td>#test I feel that influence of the planets are...</td>\n",
              "      <td>Spirituality</td>\n",
              "    </tr>\n",
              "    <tr>\n",
              "      <td>340</td>\n",
              "      <td>11030</td>\n",
              "      <td>What is my journey towards achieving spiritual...</td>\n",
              "      <td>Spirituality</td>\n",
              "    </tr>\n",
              "    <tr>\n",
              "      <td>393</td>\n",
              "      <td>9136</td>\n",
              "      <td>Do I need a Guru to guide my life journey?</td>\n",
              "      <td>Spirituality</td>\n",
              "    </tr>\n",
              "    <tr>\n",
              "      <td>456</td>\n",
              "      <td>10601</td>\n",
              "      <td>What is mission of my life? Which are the past...</td>\n",
              "      <td>Spirituality</td>\n",
              "    </tr>\n",
              "    <tr>\n",
              "      <td>570</td>\n",
              "      <td>11340</td>\n",
              "      <td>Will I live a happy life? Am I going to have t...</td>\n",
              "      <td>Spirituality</td>\n",
              "    </tr>\n",
              "    <tr>\n",
              "      <td>...</td>\n",
              "      <td>...</td>\n",
              "      <td>...</td>\n",
              "      <td>...</td>\n",
              "    </tr>\n",
              "    <tr>\n",
              "      <td>4007</td>\n",
              "      <td>16053</td>\n",
              "      <td>I think that the effect of the planets is now ...</td>\n",
              "      <td>Spirituality</td>\n",
              "    </tr>\n",
              "    <tr>\n",
              "      <td>4014</td>\n",
              "      <td>16060</td>\n",
              "      <td>I think that the effect of the planets is now ...</td>\n",
              "      <td>Spirituality</td>\n",
              "    </tr>\n",
              "    <tr>\n",
              "      <td>4048</td>\n",
              "      <td>16094</td>\n",
              "      <td>What will I gain true knowledge or salvation i...</td>\n",
              "      <td>Spirituality</td>\n",
              "    </tr>\n",
              "    <tr>\n",
              "      <td>4124</td>\n",
              "      <td>16170</td>\n",
              "      <td>What is my best way of maintaining the spiritu...</td>\n",
              "      <td>Spirituality</td>\n",
              "    </tr>\n",
              "    <tr>\n",
              "      <td>4191</td>\n",
              "      <td>16237</td>\n",
              "      <td>My journey towards achieving spiritual heights...</td>\n",
              "      <td>Spirituality</td>\n",
              "    </tr>\n",
              "  </tbody>\n",
              "</table>\n",
              "<p>70 rows × 3 columns</p>\n",
              "</div>"
            ],
            "text/plain": [
              "         id                                           question   category_id\n",
              "284   10571  #test I feel that influence of the planets are...  Spirituality\n",
              "340   11030  What is my journey towards achieving spiritual...  Spirituality\n",
              "393    9136         Do I need a Guru to guide my life journey?  Spirituality\n",
              "456   10601  What is mission of my life? Which are the past...  Spirituality\n",
              "570   11340  Will I live a happy life? Am I going to have t...  Spirituality\n",
              "...     ...                                                ...           ...\n",
              "4007  16053  I think that the effect of the planets is now ...  Spirituality\n",
              "4014  16060  I think that the effect of the planets is now ...  Spirituality\n",
              "4048  16094  What will I gain true knowledge or salvation i...  Spirituality\n",
              "4124  16170  What is my best way of maintaining the spiritu...  Spirituality\n",
              "4191  16237  My journey towards achieving spiritual heights...  Spirituality\n",
              "\n",
              "[70 rows x 3 columns]"
            ]
          },
          "metadata": {
            "tags": []
          },
          "execution_count": 104
        }
      ]
    },
    {
      "cell_type": "markdown",
      "metadata": {
        "id": "l8mnGn17b6cR",
        "colab_type": "text"
      },
      "source": [
        "## Cleaning"
      ]
    },
    {
      "cell_type": "code",
      "metadata": {
        "id": "JZgSI49tb6cS",
        "colab_type": "code",
        "colab": {}
      },
      "source": [
        "# Remove Punctuation\n",
        "def remove_punctuation(text):\n",
        "    no_punc = \"\".join([c for c in text if c not in string.punctuation])\n",
        "    return no_punc"
      ],
      "execution_count": 0,
      "outputs": []
    },
    {
      "cell_type": "code",
      "metadata": {
        "id": "SONSvdP8b6cW",
        "colab_type": "code",
        "colab": {}
      },
      "source": [
        "train['question']  = train['question'].apply(lambda x: remove_punctuation(x))"
      ],
      "execution_count": 0,
      "outputs": []
    },
    {
      "cell_type": "code",
      "metadata": {
        "id": "nci0kOdSb6cb",
        "colab_type": "code",
        "colab": {}
      },
      "source": [
        "# convert all sentence to the lowercase and return alphabetic data only\n",
        "def alpha(text):\n",
        "    alpha = [w for w in word_tokenize(text.lower()) if w.isalpha()]\n",
        "    return alpha"
      ],
      "execution_count": 0,
      "outputs": []
    },
    {
      "cell_type": "code",
      "metadata": {
        "id": "t9nkan1lb6ci",
        "colab_type": "code",
        "colab": {}
      },
      "source": [
        "train['question'] = train['question'].apply(lambda x: alpha(x))"
      ],
      "execution_count": 0,
      "outputs": []
    },
    {
      "cell_type": "code",
      "metadata": {
        "id": "m9bDSOJRb6co",
        "colab_type": "code",
        "outputId": "b69aa2ab-9eb2-4971-83a1-630aa92b085c",
        "colab": {}
      },
      "source": [
        "train.head()"
      ],
      "execution_count": 0,
      "outputs": [
        {
          "output_type": "execute_result",
          "data": {
            "text/html": [
              "<div>\n",
              "<style scoped>\n",
              "    .dataframe tbody tr th:only-of-type {\n",
              "        vertical-align: middle;\n",
              "    }\n",
              "\n",
              "    .dataframe tbody tr th {\n",
              "        vertical-align: top;\n",
              "    }\n",
              "\n",
              "    .dataframe thead th {\n",
              "        text-align: right;\n",
              "    }\n",
              "</style>\n",
              "<table border=\"1\" class=\"dataframe\">\n",
              "  <thead>\n",
              "    <tr style=\"text-align: right;\">\n",
              "      <th></th>\n",
              "      <th>id</th>\n",
              "      <th>question</th>\n",
              "      <th>category_id</th>\n",
              "    </tr>\n",
              "  </thead>\n",
              "  <tbody>\n",
              "    <tr>\n",
              "      <td>0</td>\n",
              "      <td>10479</td>\n",
              "      <td>[when, will, there, be, a, job, switch]</td>\n",
              "      <td>Career</td>\n",
              "    </tr>\n",
              "    <tr>\n",
              "      <td>2</td>\n",
              "      <td>9845</td>\n",
              "      <td>[will, i, ever, become, financially, independent]</td>\n",
              "      <td>Wealth</td>\n",
              "    </tr>\n",
              "    <tr>\n",
              "      <td>4</td>\n",
              "      <td>8311</td>\n",
              "      <td>[will, i, become, rich, one, day]</td>\n",
              "      <td>Wealth</td>\n",
              "    </tr>\n",
              "    <tr>\n",
              "      <td>5</td>\n",
              "      <td>14073</td>\n",
              "      <td>[how, many, children, will, i, have]</td>\n",
              "      <td>Family</td>\n",
              "    </tr>\n",
              "    <tr>\n",
              "      <td>6</td>\n",
              "      <td>14815</td>\n",
              "      <td>[when, will, i, get, married]</td>\n",
              "      <td>Partner</td>\n",
              "    </tr>\n",
              "  </tbody>\n",
              "</table>\n",
              "</div>"
            ],
            "text/plain": [
              "      id                                           question category_id\n",
              "0  10479            [when, will, there, be, a, job, switch]      Career\n",
              "2   9845  [will, i, ever, become, financially, independent]      Wealth\n",
              "4   8311                  [will, i, become, rich, one, day]      Wealth\n",
              "5  14073               [how, many, children, will, i, have]      Family\n",
              "6  14815                      [when, will, i, get, married]     Partner"
            ]
          },
          "metadata": {
            "tags": []
          },
          "execution_count": 16
        }
      ]
    },
    {
      "cell_type": "code",
      "metadata": {
        "id": "fklbqwaib6ct",
        "colab_type": "code",
        "colab": {}
      },
      "source": [
        "# remove stop words\n",
        "def remove_stopword(text):\n",
        "    words = [w for w in text if w not in stopwords.words('english')]\n",
        "    return words"
      ],
      "execution_count": 0,
      "outputs": []
    },
    {
      "cell_type": "code",
      "metadata": {
        "scrolled": true,
        "id": "YhcRiv58b6cw",
        "colab_type": "code",
        "colab": {}
      },
      "source": [
        "train['question'] = train['question'].apply(lambda x: remove_stopword(x))"
      ],
      "execution_count": 0,
      "outputs": []
    },
    {
      "cell_type": "code",
      "metadata": {
        "id": "eStUy0k4b6c1",
        "colab_type": "code",
        "outputId": "48ca5eb1-8edf-43e6-94a2-c6f50902a672",
        "colab": {}
      },
      "source": [
        "train.head(5)"
      ],
      "execution_count": 0,
      "outputs": [
        {
          "output_type": "execute_result",
          "data": {
            "text/html": [
              "<div>\n",
              "<style scoped>\n",
              "    .dataframe tbody tr th:only-of-type {\n",
              "        vertical-align: middle;\n",
              "    }\n",
              "\n",
              "    .dataframe tbody tr th {\n",
              "        vertical-align: top;\n",
              "    }\n",
              "\n",
              "    .dataframe thead th {\n",
              "        text-align: right;\n",
              "    }\n",
              "</style>\n",
              "<table border=\"1\" class=\"dataframe\">\n",
              "  <thead>\n",
              "    <tr style=\"text-align: right;\">\n",
              "      <th></th>\n",
              "      <th>id</th>\n",
              "      <th>question</th>\n",
              "      <th>category_id</th>\n",
              "    </tr>\n",
              "  </thead>\n",
              "  <tbody>\n",
              "    <tr>\n",
              "      <td>0</td>\n",
              "      <td>10479</td>\n",
              "      <td>[job, switch]</td>\n",
              "      <td>Career</td>\n",
              "    </tr>\n",
              "    <tr>\n",
              "      <td>2</td>\n",
              "      <td>9845</td>\n",
              "      <td>[ever, become, financially, independent]</td>\n",
              "      <td>Wealth</td>\n",
              "    </tr>\n",
              "    <tr>\n",
              "      <td>4</td>\n",
              "      <td>8311</td>\n",
              "      <td>[become, rich, one, day]</td>\n",
              "      <td>Wealth</td>\n",
              "    </tr>\n",
              "    <tr>\n",
              "      <td>5</td>\n",
              "      <td>14073</td>\n",
              "      <td>[many, children]</td>\n",
              "      <td>Family</td>\n",
              "    </tr>\n",
              "    <tr>\n",
              "      <td>6</td>\n",
              "      <td>14815</td>\n",
              "      <td>[get, married]</td>\n",
              "      <td>Partner</td>\n",
              "    </tr>\n",
              "  </tbody>\n",
              "</table>\n",
              "</div>"
            ],
            "text/plain": [
              "      id                                  question category_id\n",
              "0  10479                             [job, switch]      Career\n",
              "2   9845  [ever, become, financially, independent]      Wealth\n",
              "4   8311                  [become, rich, one, day]      Wealth\n",
              "5  14073                          [many, children]      Family\n",
              "6  14815                            [get, married]     Partner"
            ]
          },
          "metadata": {
            "tags": []
          },
          "execution_count": 19
        }
      ]
    },
    {
      "cell_type": "markdown",
      "metadata": {
        "id": "Mg2YsMJ_b6dA",
        "colab_type": "text"
      },
      "source": [
        "## Stemming & Lemmatizing"
      ]
    },
    {
      "cell_type": "markdown",
      "metadata": {
        "id": "24QMdrRAb6dD",
        "colab_type": "text"
      },
      "source": [
        "### 1. Lemmatizing"
      ]
    },
    {
      "cell_type": "code",
      "metadata": {
        "id": "qZtC-Bnwb6dE",
        "colab_type": "code",
        "colab": {}
      },
      "source": [
        "# Initiate Lamitizer\n",
        "lemmatizer = WordNetLemmatizer()\n",
        "\n",
        "def word_lemmatizer(text):\n",
        "    lem_text = [lemmatizer.lemmatize(i) for i in text]\n",
        "    return lem_text"
      ],
      "execution_count": 0,
      "outputs": []
    },
    {
      "cell_type": "code",
      "metadata": {
        "id": "iyGJL3Q-b6dH",
        "colab_type": "code",
        "colab": {}
      },
      "source": [
        "# most_10_common count of each categories\n",
        "def most_common_count(list_of_words):\n",
        "    #print(list_of_words)\n",
        "    return Counter(list_of_words.sum()).most_common(10)"
      ],
      "execution_count": 0,
      "outputs": []
    },
    {
      "cell_type": "code",
      "metadata": {
        "id": "KqkWez7bb6dK",
        "colab_type": "code",
        "outputId": "7b8975a0-e41a-4263-a6f3-8440321e15fa",
        "colab": {}
      },
      "source": [
        "# Most common word for Wealth category \n",
        "most_common_count(train[train['category_id']=='Wealth']['question'])"
      ],
      "execution_count": 0,
      "outputs": [
        {
          "output_type": "execute_result",
          "data": {
            "text/plain": [
              "[('day', 186),\n",
              " ('rich', 158),\n",
              " ('become', 135),\n",
              " ('one', 114),\n",
              " ('yes', 100),\n",
              " ('financially', 80),\n",
              " ('ever', 79),\n",
              " ('independent', 78),\n",
              " ('adversary', 72),\n",
              " ('money', 68)]"
            ]
          },
          "metadata": {
            "tags": []
          },
          "execution_count": 22
        }
      ]
    },
    {
      "cell_type": "markdown",
      "metadata": {
        "id": "ZpBjhSXGb6dP",
        "colab_type": "text"
      },
      "source": [
        "### 2. Stemming"
      ]
    },
    {
      "cell_type": "code",
      "metadata": {
        "id": "VSrjZ_q_b6dP",
        "colab_type": "code",
        "colab": {}
      },
      "source": [
        "# Initiate Stemmer\n",
        "stemmer = PorterStemmer()"
      ],
      "execution_count": 0,
      "outputs": []
    },
    {
      "cell_type": "code",
      "metadata": {
        "id": "25Uxb6J3b6dS",
        "colab_type": "code",
        "colab": {}
      },
      "source": [
        "def word_stemmer(text):\n",
        "    stem_text = \" \".join([stemmer.stem(i) for i in text])\n",
        "    return stem_text"
      ],
      "execution_count": 0,
      "outputs": []
    },
    {
      "cell_type": "code",
      "metadata": {
        "id": "sLMKoh38b6dW",
        "colab_type": "code",
        "colab": {}
      },
      "source": [
        "train['question'] = train['question'].apply(lambda x: word_stemmer(x))"
      ],
      "execution_count": 0,
      "outputs": []
    },
    {
      "cell_type": "code",
      "metadata": {
        "scrolled": true,
        "id": "XCCPFEGhb6dZ",
        "colab_type": "code",
        "outputId": "f127fdee-01f6-4626-a6c7-cee305c6ed36",
        "colab": {}
      },
      "source": [
        "train.head()"
      ],
      "execution_count": 0,
      "outputs": [
        {
          "output_type": "execute_result",
          "data": {
            "text/html": [
              "<div>\n",
              "<style scoped>\n",
              "    .dataframe tbody tr th:only-of-type {\n",
              "        vertical-align: middle;\n",
              "    }\n",
              "\n",
              "    .dataframe tbody tr th {\n",
              "        vertical-align: top;\n",
              "    }\n",
              "\n",
              "    .dataframe thead th {\n",
              "        text-align: right;\n",
              "    }\n",
              "</style>\n",
              "<table border=\"1\" class=\"dataframe\">\n",
              "  <thead>\n",
              "    <tr style=\"text-align: right;\">\n",
              "      <th></th>\n",
              "      <th>id</th>\n",
              "      <th>question</th>\n",
              "      <th>category_id</th>\n",
              "    </tr>\n",
              "  </thead>\n",
              "  <tbody>\n",
              "    <tr>\n",
              "      <td>0</td>\n",
              "      <td>10479</td>\n",
              "      <td>job switch</td>\n",
              "      <td>Career</td>\n",
              "    </tr>\n",
              "    <tr>\n",
              "      <td>2</td>\n",
              "      <td>9845</td>\n",
              "      <td>ever becom financi independ</td>\n",
              "      <td>Wealth</td>\n",
              "    </tr>\n",
              "    <tr>\n",
              "      <td>4</td>\n",
              "      <td>8311</td>\n",
              "      <td>becom rich one day</td>\n",
              "      <td>Wealth</td>\n",
              "    </tr>\n",
              "    <tr>\n",
              "      <td>5</td>\n",
              "      <td>14073</td>\n",
              "      <td>mani children</td>\n",
              "      <td>Family</td>\n",
              "    </tr>\n",
              "    <tr>\n",
              "      <td>6</td>\n",
              "      <td>14815</td>\n",
              "      <td>get marri</td>\n",
              "      <td>Partner</td>\n",
              "    </tr>\n",
              "  </tbody>\n",
              "</table>\n",
              "</div>"
            ],
            "text/plain": [
              "      id                     question category_id\n",
              "0  10479                   job switch      Career\n",
              "2   9845  ever becom financi independ      Wealth\n",
              "4   8311           becom rich one day      Wealth\n",
              "5  14073                mani children      Family\n",
              "6  14815                    get marri     Partner"
            ]
          },
          "metadata": {
            "tags": []
          },
          "execution_count": 26
        }
      ]
    },
    {
      "cell_type": "markdown",
      "metadata": {
        "id": "dGPT_k1yb6dc",
        "colab_type": "text"
      },
      "source": [
        "## Visualization"
      ]
    },
    {
      "cell_type": "code",
      "metadata": {
        "scrolled": true,
        "id": "5B6Ke_Ptb6de",
        "colab_type": "code",
        "outputId": "aa62b3d3-7745-4962-9e98-acf9226a6e8c",
        "colab": {}
      },
      "source": [
        "sorted(pd.unique(train['category_id']))"
      ],
      "execution_count": 0,
      "outputs": [
        {
          "output_type": "execute_result",
          "data": {
            "text/plain": [
              "['Business',\n",
              " 'Career',\n",
              " 'Education',\n",
              " 'Family',\n",
              " 'Marriage',\n",
              " 'Partner',\n",
              " 'Personality',\n",
              " 'Spirituality',\n",
              " 'Spouse',\n",
              " 'Wealth']"
            ]
          },
          "metadata": {
            "tags": []
          },
          "execution_count": 27
        }
      ]
    },
    {
      "cell_type": "code",
      "metadata": {
        "id": "WExQ5b0ub6dg",
        "colab_type": "code",
        "colab": {}
      },
      "source": [
        "def wordcloud_draw(data, color = 'black'):\n",
        "    words = ' '.join(data)\n",
        "    cleaned_word = \" \".join([word for word in words.split()])\n",
        "    wordcloud = WordCloud(stopwords=STOPWORDS,\n",
        "                      background_color=color,\n",
        "                      width=2500,\n",
        "                      height=2000\n",
        "                     ).generate(cleaned_word)\n",
        "    plt.figure(1,figsize=(10, 10))\n",
        "    plt.imshow(wordcloud)\n",
        "    plt.axis('off')\n",
        "    plt.show()"
      ],
      "execution_count": 0,
      "outputs": []
    },
    {
      "cell_type": "code",
      "metadata": {
        "id": "Z3VbWluAb6dj",
        "colab_type": "code",
        "colab": {}
      },
      "source": [
        "tempData = train[train['category_id']=='Marriage']['question']"
      ],
      "execution_count": 0,
      "outputs": []
    },
    {
      "cell_type": "code",
      "metadata": {
        "scrolled": true,
        "id": "hDo6yVU9b6dl",
        "colab_type": "code",
        "outputId": "04367b6e-7a6c-407c-ea61-0e79dada89c2",
        "colab": {}
      },
      "source": [
        "wordcloud_draw(tempData,'black')"
      ],
      "execution_count": 0,
      "outputs": [
        {
          "output_type": "display_data",
          "data": {
            "image/png": "[encoded data removed]",
            "text/plain": [
              "<Figure size 720x720 with 1 Axes>"
            ]
          },
          "metadata": {
            "tags": []
          }
        }
      ]
    },
    {
      "cell_type": "markdown",
      "metadata": {
        "id": "ayvBR_Jkb6do",
        "colab_type": "text"
      },
      "source": [
        "### Modeling"
      ]
    },
    {
      "cell_type": "code",
      "metadata": {
        "scrolled": false,
        "id": "HK063WGJb6dp",
        "colab_type": "code",
        "outputId": "65a27e61-6d1f-4a16-ff08-15e0f3c0fb83",
        "colab": {}
      },
      "source": [
        "train.head()"
      ],
      "execution_count": 0,
      "outputs": [
        {
          "output_type": "execute_result",
          "data": {
            "text/html": [
              "<div>\n",
              "<style scoped>\n",
              "    .dataframe tbody tr th:only-of-type {\n",
              "        vertical-align: middle;\n",
              "    }\n",
              "\n",
              "    .dataframe tbody tr th {\n",
              "        vertical-align: top;\n",
              "    }\n",
              "\n",
              "    .dataframe thead th {\n",
              "        text-align: right;\n",
              "    }\n",
              "</style>\n",
              "<table border=\"1\" class=\"dataframe\">\n",
              "  <thead>\n",
              "    <tr style=\"text-align: right;\">\n",
              "      <th></th>\n",
              "      <th>id</th>\n",
              "      <th>question</th>\n",
              "      <th>category_id</th>\n",
              "    </tr>\n",
              "  </thead>\n",
              "  <tbody>\n",
              "    <tr>\n",
              "      <td>0</td>\n",
              "      <td>10479</td>\n",
              "      <td>job switch</td>\n",
              "      <td>Career</td>\n",
              "    </tr>\n",
              "    <tr>\n",
              "      <td>2</td>\n",
              "      <td>9845</td>\n",
              "      <td>ever becom financi independ</td>\n",
              "      <td>Wealth</td>\n",
              "    </tr>\n",
              "    <tr>\n",
              "      <td>4</td>\n",
              "      <td>8311</td>\n",
              "      <td>becom rich one day</td>\n",
              "      <td>Wealth</td>\n",
              "    </tr>\n",
              "    <tr>\n",
              "      <td>5</td>\n",
              "      <td>14073</td>\n",
              "      <td>mani children</td>\n",
              "      <td>Family</td>\n",
              "    </tr>\n",
              "    <tr>\n",
              "      <td>6</td>\n",
              "      <td>14815</td>\n",
              "      <td>get marri</td>\n",
              "      <td>Partner</td>\n",
              "    </tr>\n",
              "  </tbody>\n",
              "</table>\n",
              "</div>"
            ],
            "text/plain": [
              "      id                     question category_id\n",
              "0  10479                   job switch      Career\n",
              "2   9845  ever becom financi independ      Wealth\n",
              "4   8311           becom rich one day      Wealth\n",
              "5  14073                mani children      Family\n",
              "6  14815                    get marri     Partner"
            ]
          },
          "metadata": {
            "tags": []
          },
          "execution_count": 31
        }
      ]
    },
    {
      "cell_type": "markdown",
      "metadata": {
        "id": "SMdT9KlYb6ds",
        "colab_type": "text"
      },
      "source": [
        "#### Train and Test Split"
      ]
    },
    {
      "cell_type": "code",
      "metadata": {
        "id": "-CAQ-Bs1b6ds",
        "colab_type": "code",
        "colab": {}
      },
      "source": [
        "# create serial to store labels\n",
        "y = train['category_id']"
      ],
      "execution_count": 0,
      "outputs": []
    },
    {
      "cell_type": "code",
      "metadata": {
        "id": "IPysNq84b6dv",
        "colab_type": "code",
        "colab": {}
      },
      "source": [
        "# create training and test set\n",
        "X_train, X_test, y_train, y_test = train_test_split(train['question'], y, test_size=0.2, random_state=53)"
      ],
      "execution_count": 0,
      "outputs": []
    },
    {
      "cell_type": "markdown",
      "metadata": {
        "id": "XTS0Ae-5b6dx",
        "colab_type": "text"
      },
      "source": [
        "#### CountVectorizer for text classification"
      ]
    },
    {
      "cell_type": "code",
      "metadata": {
        "id": "zHAvRRjVb6dy",
        "colab_type": "code",
        "colab": {}
      },
      "source": [
        "# Intialize CountVectorize object\n",
        "count_vectorizer = CountVectorizer(stop_words='english')"
      ],
      "execution_count": 0,
      "outputs": []
    },
    {
      "cell_type": "code",
      "metadata": {
        "id": "lNjYXpHrb6d1",
        "colab_type": "code",
        "colab": {}
      },
      "source": [
        "# fit and transform X_train\n",
        "count_train = count_vectorizer.fit_transform(X_train)"
      ],
      "execution_count": 0,
      "outputs": []
    },
    {
      "cell_type": "code",
      "metadata": {
        "id": "KiWmEFdjb6d4",
        "colab_type": "code",
        "colab": {}
      },
      "source": [
        "# transform the X_test\n",
        "count_test = count_vectorizer.transform(X_test)"
      ],
      "execution_count": 0,
      "outputs": []
    },
    {
      "cell_type": "code",
      "metadata": {
        "id": "yO8lcfrdb6d8",
        "colab_type": "code",
        "outputId": "647bb010-dfe0-45bd-cf78-0956f056c595",
        "colab": {}
      },
      "source": [
        "# print the last 10 feature of count vectorizer\n",
        "print(count_vectorizer.get_feature_names()[-10:-1])"
      ],
      "execution_count": 0,
      "outputs": [
        {
          "output_type": "stream",
          "text": [
            "['wonder', 'work', 'workplac', 'worri', 'write', 'wrong', 'ye', 'year', 'yog']\n"
          ],
          "name": "stdout"
        }
      ]
    },
    {
      "cell_type": "code",
      "metadata": {
        "id": "sv0bWzZDb6d-",
        "colab_type": "code",
        "colab": {}
      },
      "source": [
        "# create count_vectorizer dataframe \n",
        "count_df = pd.DataFrame(count_train.A, columns=count_vectorizer.get_feature_names())"
      ],
      "execution_count": 0,
      "outputs": []
    },
    {
      "cell_type": "code",
      "metadata": {
        "id": "X3avcl-8b6eC",
        "colab_type": "code",
        "outputId": "979e3e77-f4f6-4b27-a7e9-00a6f9fbeb95",
        "colab": {}
      },
      "source": [
        "# print head of count_df\n",
        "count_df.head()"
      ],
      "execution_count": 0,
      "outputs": [
        {
          "output_type": "execute_result",
          "data": {
            "text/html": [
              "<div>\n",
              "<style scoped>\n",
              "    .dataframe tbody tr th:only-of-type {\n",
              "        vertical-align: middle;\n",
              "    }\n",
              "\n",
              "    .dataframe tbody tr th {\n",
              "        vertical-align: top;\n",
              "    }\n",
              "\n",
              "    .dataframe thead th {\n",
              "        text-align: right;\n",
              "    }\n",
              "</style>\n",
              "<table border=\"1\" class=\"dataframe\">\n",
              "  <thead>\n",
              "    <tr style=\"text-align: right;\">\n",
              "      <th></th>\n",
              "      <th>aata</th>\n",
              "      <th>aaya</th>\n",
              "      <th>abl</th>\n",
              "      <th>abroad</th>\n",
              "      <th>academ</th>\n",
              "      <th>accept</th>\n",
              "      <th>accord</th>\n",
              "      <th>achiev</th>\n",
              "      <th>acquir</th>\n",
              "      <th>act</th>\n",
              "      <th>...</th>\n",
              "      <th>wonder</th>\n",
              "      <th>work</th>\n",
              "      <th>workplac</th>\n",
              "      <th>worri</th>\n",
              "      <th>write</th>\n",
              "      <th>wrong</th>\n",
              "      <th>ye</th>\n",
              "      <th>year</th>\n",
              "      <th>yog</th>\n",
              "      <th>younger</th>\n",
              "    </tr>\n",
              "  </thead>\n",
              "  <tbody>\n",
              "    <tr>\n",
              "      <td>0</td>\n",
              "      <td>0</td>\n",
              "      <td>0</td>\n",
              "      <td>0</td>\n",
              "      <td>0</td>\n",
              "      <td>0</td>\n",
              "      <td>0</td>\n",
              "      <td>0</td>\n",
              "      <td>0</td>\n",
              "      <td>0</td>\n",
              "      <td>0</td>\n",
              "      <td>...</td>\n",
              "      <td>0</td>\n",
              "      <td>0</td>\n",
              "      <td>0</td>\n",
              "      <td>0</td>\n",
              "      <td>0</td>\n",
              "      <td>0</td>\n",
              "      <td>0</td>\n",
              "      <td>0</td>\n",
              "      <td>0</td>\n",
              "      <td>0</td>\n",
              "    </tr>\n",
              "    <tr>\n",
              "      <td>1</td>\n",
              "      <td>0</td>\n",
              "      <td>0</td>\n",
              "      <td>0</td>\n",
              "      <td>0</td>\n",
              "      <td>0</td>\n",
              "      <td>0</td>\n",
              "      <td>0</td>\n",
              "      <td>0</td>\n",
              "      <td>0</td>\n",
              "      <td>0</td>\n",
              "      <td>...</td>\n",
              "      <td>0</td>\n",
              "      <td>0</td>\n",
              "      <td>0</td>\n",
              "      <td>0</td>\n",
              "      <td>0</td>\n",
              "      <td>0</td>\n",
              "      <td>0</td>\n",
              "      <td>0</td>\n",
              "      <td>0</td>\n",
              "      <td>0</td>\n",
              "    </tr>\n",
              "    <tr>\n",
              "      <td>2</td>\n",
              "      <td>0</td>\n",
              "      <td>0</td>\n",
              "      <td>0</td>\n",
              "      <td>0</td>\n",
              "      <td>0</td>\n",
              "      <td>0</td>\n",
              "      <td>0</td>\n",
              "      <td>0</td>\n",
              "      <td>0</td>\n",
              "      <td>0</td>\n",
              "      <td>...</td>\n",
              "      <td>0</td>\n",
              "      <td>0</td>\n",
              "      <td>0</td>\n",
              "      <td>0</td>\n",
              "      <td>0</td>\n",
              "      <td>0</td>\n",
              "      <td>0</td>\n",
              "      <td>0</td>\n",
              "      <td>0</td>\n",
              "      <td>0</td>\n",
              "    </tr>\n",
              "    <tr>\n",
              "      <td>3</td>\n",
              "      <td>0</td>\n",
              "      <td>0</td>\n",
              "      <td>0</td>\n",
              "      <td>0</td>\n",
              "      <td>0</td>\n",
              "      <td>0</td>\n",
              "      <td>0</td>\n",
              "      <td>0</td>\n",
              "      <td>0</td>\n",
              "      <td>0</td>\n",
              "      <td>...</td>\n",
              "      <td>0</td>\n",
              "      <td>0</td>\n",
              "      <td>0</td>\n",
              "      <td>0</td>\n",
              "      <td>0</td>\n",
              "      <td>0</td>\n",
              "      <td>0</td>\n",
              "      <td>0</td>\n",
              "      <td>0</td>\n",
              "      <td>0</td>\n",
              "    </tr>\n",
              "    <tr>\n",
              "      <td>4</td>\n",
              "      <td>0</td>\n",
              "      <td>0</td>\n",
              "      <td>0</td>\n",
              "      <td>0</td>\n",
              "      <td>0</td>\n",
              "      <td>0</td>\n",
              "      <td>0</td>\n",
              "      <td>0</td>\n",
              "      <td>0</td>\n",
              "      <td>0</td>\n",
              "      <td>...</td>\n",
              "      <td>0</td>\n",
              "      <td>0</td>\n",
              "      <td>0</td>\n",
              "      <td>0</td>\n",
              "      <td>0</td>\n",
              "      <td>0</td>\n",
              "      <td>0</td>\n",
              "      <td>0</td>\n",
              "      <td>0</td>\n",
              "      <td>0</td>\n",
              "    </tr>\n",
              "  </tbody>\n",
              "</table>\n",
              "<p>5 rows × 573 columns</p>\n",
              "</div>"
            ],
            "text/plain": [
              "   aata  aaya  abl  abroad  academ  accept  accord  achiev  acquir  act  ...  \\\n",
              "0     0     0    0       0       0       0       0       0       0    0  ...   \n",
              "1     0     0    0       0       0       0       0       0       0    0  ...   \n",
              "2     0     0    0       0       0       0       0       0       0    0  ...   \n",
              "3     0     0    0       0       0       0       0       0       0    0  ...   \n",
              "4     0     0    0       0       0       0       0       0       0    0  ...   \n",
              "\n",
              "   wonder  work  workplac  worri  write  wrong  ye  year  yog  younger  \n",
              "0       0     0         0      0      0      0   0     0    0        0  \n",
              "1       0     0         0      0      0      0   0     0    0        0  \n",
              "2       0     0         0      0      0      0   0     0    0        0  \n",
              "3       0     0         0      0      0      0   0     0    0        0  \n",
              "4       0     0         0      0      0      0   0     0    0        0  \n",
              "\n",
              "[5 rows x 573 columns]"
            ]
          },
          "metadata": {
            "tags": []
          },
          "execution_count": 39
        }
      ]
    },
    {
      "cell_type": "markdown",
      "metadata": {
        "id": "aT71MGXAb6eF",
        "colab_type": "text"
      },
      "source": [
        "#### TfidfVectorizer for text classification"
      ]
    },
    {
      "cell_type": "code",
      "metadata": {
        "id": "fsFg6dNab6eG",
        "colab_type": "code",
        "colab": {}
      },
      "source": [
        "# Intialize TfidfVEctorizer object\n",
        "tfidf_vectorizer = TfidfVectorizer(stop_words='english', max_df=0.7)"
      ],
      "execution_count": 0,
      "outputs": []
    },
    {
      "cell_type": "code",
      "metadata": {
        "id": "2UGLF5tUb6eJ",
        "colab_type": "code",
        "colab": {}
      },
      "source": [
        "# fit and tranform xtrain\n",
        "tfidf_train = tfidf_vectorizer.fit_transform(X_train)"
      ],
      "execution_count": 0,
      "outputs": []
    },
    {
      "cell_type": "code",
      "metadata": {
        "id": "d9wxd63nb6eM",
        "colab_type": "code",
        "colab": {}
      },
      "source": [
        "# transform xtest\n",
        "tfidf_test = tfidf_vectorizer.transform(X_test)"
      ],
      "execution_count": 0,
      "outputs": []
    },
    {
      "cell_type": "code",
      "metadata": {
        "id": "lvscV9lxb6eO",
        "colab_type": "code",
        "outputId": "5311639c-f601-46db-8e9d-c3994b143d66",
        "colab": {}
      },
      "source": [
        "# print the first 10 feature of tfidf vectorizer\n",
        "print(tfidf_vectorizer.get_feature_names()[:10])"
      ],
      "execution_count": 0,
      "outputs": [
        {
          "output_type": "stream",
          "text": [
            "['aata', 'aaya', 'abl', 'abroad', 'academ', 'accept', 'accord', 'achiev', 'acquir', 'act']\n"
          ],
          "name": "stdout"
        }
      ]
    },
    {
      "cell_type": "code",
      "metadata": {
        "id": "45dSmXNTb6eQ",
        "colab_type": "code",
        "outputId": "64e9da44-5217-45f7-93cb-1bd4839c095b",
        "colab": {}
      },
      "source": [
        "# print first 5 vectors of tfidf training data\n",
        "print(tfidf_train.A.shape)"
      ],
      "execution_count": 0,
      "outputs": [
        {
          "output_type": "stream",
          "text": [
            "(2356, 573)\n"
          ],
          "name": "stdout"
        }
      ]
    },
    {
      "cell_type": "code",
      "metadata": {
        "id": "zNijksLQb6eT",
        "colab_type": "code",
        "colab": {}
      },
      "source": [
        "# create tfidf dataframe\n",
        "tfidf_df = pd.DataFrame(tfidf_train.A, columns=tfidf_vectorizer.get_feature_names())"
      ],
      "execution_count": 0,
      "outputs": []
    },
    {
      "cell_type": "code",
      "metadata": {
        "id": "bQJQKgTxb6eV",
        "colab_type": "code",
        "outputId": "bbf0ce97-9a42-47fd-c997-244df83a5c03",
        "colab": {}
      },
      "source": [
        "# print of head of tfidf\n",
        "tfidf_df.head()"
      ],
      "execution_count": 0,
      "outputs": [
        {
          "output_type": "execute_result",
          "data": {
            "text/html": [
              "<div>\n",
              "<style scoped>\n",
              "    .dataframe tbody tr th:only-of-type {\n",
              "        vertical-align: middle;\n",
              "    }\n",
              "\n",
              "    .dataframe tbody tr th {\n",
              "        vertical-align: top;\n",
              "    }\n",
              "\n",
              "    .dataframe thead th {\n",
              "        text-align: right;\n",
              "    }\n",
              "</style>\n",
              "<table border=\"1\" class=\"dataframe\">\n",
              "  <thead>\n",
              "    <tr style=\"text-align: right;\">\n",
              "      <th></th>\n",
              "      <th>aata</th>\n",
              "      <th>aaya</th>\n",
              "      <th>abl</th>\n",
              "      <th>abroad</th>\n",
              "      <th>academ</th>\n",
              "      <th>accept</th>\n",
              "      <th>accord</th>\n",
              "      <th>achiev</th>\n",
              "      <th>acquir</th>\n",
              "      <th>act</th>\n",
              "      <th>...</th>\n",
              "      <th>wonder</th>\n",
              "      <th>work</th>\n",
              "      <th>workplac</th>\n",
              "      <th>worri</th>\n",
              "      <th>write</th>\n",
              "      <th>wrong</th>\n",
              "      <th>ye</th>\n",
              "      <th>year</th>\n",
              "      <th>yog</th>\n",
              "      <th>younger</th>\n",
              "    </tr>\n",
              "  </thead>\n",
              "  <tbody>\n",
              "    <tr>\n",
              "      <td>0</td>\n",
              "      <td>0.0</td>\n",
              "      <td>0.0</td>\n",
              "      <td>0.0</td>\n",
              "      <td>0.0</td>\n",
              "      <td>0.0</td>\n",
              "      <td>0.0</td>\n",
              "      <td>0.0</td>\n",
              "      <td>0.0</td>\n",
              "      <td>0.0</td>\n",
              "      <td>0.0</td>\n",
              "      <td>...</td>\n",
              "      <td>0.0</td>\n",
              "      <td>0.0</td>\n",
              "      <td>0.0</td>\n",
              "      <td>0.0</td>\n",
              "      <td>0.0</td>\n",
              "      <td>0.0</td>\n",
              "      <td>0.0</td>\n",
              "      <td>0.0</td>\n",
              "      <td>0.0</td>\n",
              "      <td>0.0</td>\n",
              "    </tr>\n",
              "    <tr>\n",
              "      <td>1</td>\n",
              "      <td>0.0</td>\n",
              "      <td>0.0</td>\n",
              "      <td>0.0</td>\n",
              "      <td>0.0</td>\n",
              "      <td>0.0</td>\n",
              "      <td>0.0</td>\n",
              "      <td>0.0</td>\n",
              "      <td>0.0</td>\n",
              "      <td>0.0</td>\n",
              "      <td>0.0</td>\n",
              "      <td>...</td>\n",
              "      <td>0.0</td>\n",
              "      <td>0.0</td>\n",
              "      <td>0.0</td>\n",
              "      <td>0.0</td>\n",
              "      <td>0.0</td>\n",
              "      <td>0.0</td>\n",
              "      <td>0.0</td>\n",
              "      <td>0.0</td>\n",
              "      <td>0.0</td>\n",
              "      <td>0.0</td>\n",
              "    </tr>\n",
              "    <tr>\n",
              "      <td>2</td>\n",
              "      <td>0.0</td>\n",
              "      <td>0.0</td>\n",
              "      <td>0.0</td>\n",
              "      <td>0.0</td>\n",
              "      <td>0.0</td>\n",
              "      <td>0.0</td>\n",
              "      <td>0.0</td>\n",
              "      <td>0.0</td>\n",
              "      <td>0.0</td>\n",
              "      <td>0.0</td>\n",
              "      <td>...</td>\n",
              "      <td>0.0</td>\n",
              "      <td>0.0</td>\n",
              "      <td>0.0</td>\n",
              "      <td>0.0</td>\n",
              "      <td>0.0</td>\n",
              "      <td>0.0</td>\n",
              "      <td>0.0</td>\n",
              "      <td>0.0</td>\n",
              "      <td>0.0</td>\n",
              "      <td>0.0</td>\n",
              "    </tr>\n",
              "    <tr>\n",
              "      <td>3</td>\n",
              "      <td>0.0</td>\n",
              "      <td>0.0</td>\n",
              "      <td>0.0</td>\n",
              "      <td>0.0</td>\n",
              "      <td>0.0</td>\n",
              "      <td>0.0</td>\n",
              "      <td>0.0</td>\n",
              "      <td>0.0</td>\n",
              "      <td>0.0</td>\n",
              "      <td>0.0</td>\n",
              "      <td>...</td>\n",
              "      <td>0.0</td>\n",
              "      <td>0.0</td>\n",
              "      <td>0.0</td>\n",
              "      <td>0.0</td>\n",
              "      <td>0.0</td>\n",
              "      <td>0.0</td>\n",
              "      <td>0.0</td>\n",
              "      <td>0.0</td>\n",
              "      <td>0.0</td>\n",
              "      <td>0.0</td>\n",
              "    </tr>\n",
              "    <tr>\n",
              "      <td>4</td>\n",
              "      <td>0.0</td>\n",
              "      <td>0.0</td>\n",
              "      <td>0.0</td>\n",
              "      <td>0.0</td>\n",
              "      <td>0.0</td>\n",
              "      <td>0.0</td>\n",
              "      <td>0.0</td>\n",
              "      <td>0.0</td>\n",
              "      <td>0.0</td>\n",
              "      <td>0.0</td>\n",
              "      <td>...</td>\n",
              "      <td>0.0</td>\n",
              "      <td>0.0</td>\n",
              "      <td>0.0</td>\n",
              "      <td>0.0</td>\n",
              "      <td>0.0</td>\n",
              "      <td>0.0</td>\n",
              "      <td>0.0</td>\n",
              "      <td>0.0</td>\n",
              "      <td>0.0</td>\n",
              "      <td>0.0</td>\n",
              "    </tr>\n",
              "  </tbody>\n",
              "</table>\n",
              "<p>5 rows × 573 columns</p>\n",
              "</div>"
            ],
            "text/plain": [
              "   aata  aaya  abl  abroad  academ  accept  accord  achiev  acquir  act  ...  \\\n",
              "0   0.0   0.0  0.0     0.0     0.0     0.0     0.0     0.0     0.0  0.0  ...   \n",
              "1   0.0   0.0  0.0     0.0     0.0     0.0     0.0     0.0     0.0  0.0  ...   \n",
              "2   0.0   0.0  0.0     0.0     0.0     0.0     0.0     0.0     0.0  0.0  ...   \n",
              "3   0.0   0.0  0.0     0.0     0.0     0.0     0.0     0.0     0.0  0.0  ...   \n",
              "4   0.0   0.0  0.0     0.0     0.0     0.0     0.0     0.0     0.0  0.0  ...   \n",
              "\n",
              "   wonder  work  workplac  worri  write  wrong   ye  year  yog  younger  \n",
              "0     0.0   0.0       0.0    0.0    0.0    0.0  0.0   0.0  0.0      0.0  \n",
              "1     0.0   0.0       0.0    0.0    0.0    0.0  0.0   0.0  0.0      0.0  \n",
              "2     0.0   0.0       0.0    0.0    0.0    0.0  0.0   0.0  0.0      0.0  \n",
              "3     0.0   0.0       0.0    0.0    0.0    0.0  0.0   0.0  0.0      0.0  \n",
              "4     0.0   0.0       0.0    0.0    0.0    0.0  0.0   0.0  0.0      0.0  \n",
              "\n",
              "[5 rows x 573 columns]"
            ]
          },
          "metadata": {
            "tags": []
          },
          "execution_count": 46
        }
      ]
    },
    {
      "cell_type": "markdown",
      "metadata": {
        "id": "Gi-sVom2b6eX",
        "colab_type": "text"
      },
      "source": [
        "#### -----------------------------------------------------------"
      ]
    },
    {
      "cell_type": "code",
      "metadata": {
        "id": "v9cahVsOb6eY",
        "colab_type": "code",
        "colab": {}
      },
      "source": [
        "# calculate the differences in columns between CountVectorizer and TfIdfVectorizer\n",
        "diffrence = set(count_df.columns) - set(tfidf_df.columns)"
      ],
      "execution_count": 0,
      "outputs": []
    },
    {
      "cell_type": "code",
      "metadata": {
        "id": "3dEMEGYeb6eb",
        "colab_type": "code",
        "outputId": "6b7a1914-51f2-46a9-d353-d23c73159e1d",
        "colab": {}
      },
      "source": [
        "diffrence"
      ],
      "execution_count": 0,
      "outputs": [
        {
          "output_type": "execute_result",
          "data": {
            "text/plain": [
              "set()"
            ]
          },
          "metadata": {
            "tags": []
          },
          "execution_count": 48
        }
      ]
    },
    {
      "cell_type": "code",
      "metadata": {
        "id": "AZDBGmAWb6ed",
        "colab_type": "code",
        "outputId": "ff16e927-040d-4088-dfb3-9f050024b393",
        "colab": {}
      },
      "source": [
        "# check wether dataframe are equals\n",
        "count_df.equals(tfidf_df)"
      ],
      "execution_count": 0,
      "outputs": [
        {
          "output_type": "execute_result",
          "data": {
            "text/plain": [
              "False"
            ]
          },
          "metadata": {
            "tags": []
          },
          "execution_count": 49
        }
      ]
    },
    {
      "cell_type": "markdown",
      "metadata": {
        "id": "QW7HNyrOb6eg",
        "colab_type": "text"
      },
      "source": [
        "### Naive Bayes"
      ]
    },
    {
      "cell_type": "code",
      "metadata": {
        "id": "7pqbs7YRb6eh",
        "colab_type": "code",
        "colab": {}
      },
      "source": [
        "def naive_bayes_out(X_train, X_test, y_train, y_test):\n",
        "    # intiate Multinomial naive_bayes\n",
        "    clf = MultinomialNB()\n",
        "    \n",
        "    # fit the model\n",
        "    clf.fit(X_train, y_train)\n",
        "    \n",
        "    # predict the model\n",
        "    y_pred = clf.predict(X_test)\n",
        "    \n",
        "    # score of model\n",
        "    score = clf.score(X_train, y_train)\n",
        "    \n",
        "    # accuracy \n",
        "    accuracy = metrics.accuracy_score(y_test, y_pred)\n",
        "    \n",
        "    return score, accuracy"
      ],
      "execution_count": 0,
      "outputs": []
    },
    {
      "cell_type": "markdown",
      "metadata": {
        "id": "-_1WUPLBb6ej",
        "colab_type": "text"
      },
      "source": [
        "#### 1. Count Vector"
      ]
    },
    {
      "cell_type": "code",
      "metadata": {
        "id": "LuJB16R_b6ek",
        "colab_type": "code",
        "colab": {}
      },
      "source": [
        "score, accuracy = naive_bayes_out(count_train, count_test, y_train, y_test)"
      ],
      "execution_count": 0,
      "outputs": []
    },
    {
      "cell_type": "code",
      "metadata": {
        "id": "T1FkJQCfb6er",
        "colab_type": "code",
        "outputId": "85334ba9-0a0e-40ed-e1c7-f4627551462e",
        "colab": {}
      },
      "source": [
        "print('Score : ', score*100)"
      ],
      "execution_count": 0,
      "outputs": [
        {
          "output_type": "stream",
          "text": [
            "Score :  96.7741935483871\n"
          ],
          "name": "stdout"
        }
      ]
    },
    {
      "cell_type": "code",
      "metadata": {
        "id": "Fa7daiD8b6et",
        "colab_type": "code",
        "outputId": "5c2d8507-7ba7-4c16-d4a9-2133496f5e75",
        "colab": {}
      },
      "source": [
        "print('Accuracy : ', accuracy*100)"
      ],
      "execution_count": 0,
      "outputs": [
        {
          "output_type": "stream",
          "text": [
            "Accuracy :  96.7741935483871\n"
          ],
          "name": "stdout"
        }
      ]
    },
    {
      "cell_type": "markdown",
      "metadata": {
        "id": "GX19GgIWb6ew",
        "colab_type": "text"
      },
      "source": [
        "#### 2. Tfid Vector"
      ]
    },
    {
      "cell_type": "code",
      "metadata": {
        "id": "n7k03fWHb6ex",
        "colab_type": "code",
        "colab": {}
      },
      "source": [
        "score, accuracy = naive_bayes_out(tfidf_train, tfidf_test, y_train, y_test)"
      ],
      "execution_count": 0,
      "outputs": []
    },
    {
      "cell_type": "code",
      "metadata": {
        "id": "NuyPNM3zb6ez",
        "colab_type": "code",
        "outputId": "304d676b-19da-4441-e444-6f36d7847575",
        "colab": {}
      },
      "source": [
        "print('Score : ', score*100)"
      ],
      "execution_count": 0,
      "outputs": [
        {
          "output_type": "stream",
          "text": [
            "Score :  97.32597623089984\n"
          ],
          "name": "stdout"
        }
      ]
    },
    {
      "cell_type": "code",
      "metadata": {
        "id": "akDN7cjrb6e1",
        "colab_type": "code",
        "outputId": "08241de4-f567-44c5-8e27-58b252f5303c",
        "colab": {}
      },
      "source": [
        "print('Accuracy : ', accuracy*100)"
      ],
      "execution_count": 0,
      "outputs": [
        {
          "output_type": "stream",
          "text": [
            "Accuracy :  96.7741935483871\n"
          ],
          "name": "stdout"
        }
      ]
    },
    {
      "cell_type": "markdown",
      "metadata": {
        "id": "OCRBnZuob6e3",
        "colab_type": "text"
      },
      "source": [
        "#### -----------------------------------------------------------------------"
      ]
    },
    {
      "cell_type": "markdown",
      "metadata": {
        "id": "z7yiv3Jbb6e4",
        "colab_type": "text"
      },
      "source": [
        "#### Improving Model"
      ]
    },
    {
      "cell_type": "code",
      "metadata": {
        "id": "2IBNYiceb6e5",
        "colab_type": "code",
        "colab": {}
      },
      "source": [
        "# create list of alpha\n",
        "alphas = np.arange(0, 1, 0.1)"
      ],
      "execution_count": 0,
      "outputs": []
    },
    {
      "cell_type": "code",
      "metadata": {
        "id": "yaFQUE7Bb6e7",
        "colab_type": "code",
        "colab": {}
      },
      "source": [
        "def train_and_predict(alpha, type='tf'):\n",
        "    # intiate classification model\n",
        "    nb_classification = MultinomialNB(alpha=alpha)\n",
        "    if type=='tf':\n",
        "        # fit\n",
        "        nb_classification.fit(tfidf_train, y_train)\n",
        "        # predict\n",
        "        pred = nb_classification.predict(tfidf_test)\n",
        "        score = metrics.accuracy_score(y_test, pred)\n",
        "    if type=='cv':\n",
        "        # fit\n",
        "        nb_classification.fit(count_train, y_train)\n",
        "        # predict\n",
        "        pred = nb_classification.predict(count_test)\n",
        "        score = metrics.accuracy_score(y_test, pred)\n",
        "        \n",
        "    return score"
      ],
      "execution_count": 0,
      "outputs": []
    },
    {
      "cell_type": "markdown",
      "metadata": {
        "id": "S3RZinmMb6e9",
        "colab_type": "text"
      },
      "source": [
        "##### 1. CountVectorizer"
      ]
    },
    {
      "cell_type": "code",
      "metadata": {
        "id": "CId4nONMb6e-",
        "colab_type": "code",
        "outputId": "df36119c-2b76-4380-9bda-0ec786dd7ad1",
        "colab": {}
      },
      "source": [
        "score = 0\n",
        "alpha = 0\n",
        "for alpha in alphas:\n",
        "    #print('Alpha : ', alpha)\n",
        "    #print('Score: ', train_and_predict(alpha))\n",
        "    if score<train_and_predict(alpha, type='cv'): \n",
        "        score=train_and_predict(alpha, type='cv') \n",
        "        alpha=alpha\n",
        "print('Best Score is {} for alpha {}.'.format(score, alpha))"
      ],
      "execution_count": 0,
      "outputs": [
        {
          "output_type": "stream",
          "text": [
            "Best Score is 0.9779286926994907 for alpha 0.9.\n"
          ],
          "name": "stdout"
        }
      ]
    },
    {
      "cell_type": "markdown",
      "metadata": {
        "id": "6g8svtCtb6fB",
        "colab_type": "text"
      },
      "source": [
        "#### 2. TfidVectorizer"
      ]
    },
    {
      "cell_type": "code",
      "metadata": {
        "id": "K-NgWqNOb6fB",
        "colab_type": "code",
        "outputId": "36a4c1f0-1633-4772-f28e-97315c0b47c5",
        "colab": {}
      },
      "source": [
        "score = 0\n",
        "alpha = 0\n",
        "for alpha in alphas:\n",
        "    #print('Alpha : ', alpha)\n",
        "    #print('Score: ', train_and_predict(alpha))\n",
        "    if score<train_and_predict(alpha, type='tf'): \n",
        "        score=train_and_predict(alpha, type='tf')\n",
        "        alpha=alpha\n",
        "print('Best Score is {} for alpha {}.'.format(score, alpha))"
      ],
      "execution_count": 0,
      "outputs": [
        {
          "output_type": "stream",
          "text": [
            "Best Score is 0.9796264855687606 for alpha 0.9.\n"
          ],
          "name": "stdout"
        }
      ]
    },
    {
      "cell_type": "code",
      "metadata": {
        "scrolled": true,
        "id": "CqeZVEtXb6fE",
        "colab_type": "code",
        "outputId": "244d2240-46a5-4c0c-ecd3-104b69bc7e69",
        "colab": {}
      },
      "source": [
        "score = 0\n",
        "alpha = 0\n",
        "for alpha in alphas:\n",
        "    #print('Alpha : ', alpha)\n",
        "    #print('Score: ', train_and_predict(alpha))\n",
        "    if score<train_and_predict(alpha): \n",
        "        score=train_and_predict(alpha) \n",
        "        alpha=alpha\n",
        "print('Best Score is {} for alpha {}.'.format(score, alpha))"
      ],
      "execution_count": 0,
      "outputs": [
        {
          "output_type": "stream",
          "text": [
            "Best Score is 0.9796264855687606 for alpha 0.9.\n"
          ],
          "name": "stdout"
        }
      ]
    },
    {
      "cell_type": "markdown",
      "metadata": {
        "id": "InB5W-Dpb6fH",
        "colab_type": "text"
      },
      "source": [
        "### Final Model"
      ]
    },
    {
      "cell_type": "code",
      "metadata": {
        "id": "GryxzGwQb6fH",
        "colab_type": "code",
        "colab": {}
      },
      "source": [
        "# final model\n",
        "clf = MultinomialNB(alpha=0.9)"
      ],
      "execution_count": 0,
      "outputs": []
    },
    {
      "cell_type": "code",
      "metadata": {
        "id": "rDDAoPbmb6fJ",
        "colab_type": "code",
        "outputId": "cbb2fc6a-f45f-4a98-dc07-1167bdc7e8ae",
        "colab": {}
      },
      "source": [
        "clf.fit(tfidf_train, y_train)"
      ],
      "execution_count": 0,
      "outputs": [
        {
          "output_type": "execute_result",
          "data": {
            "text/plain": [
              "MultinomialNB(alpha=0.9, class_prior=None, fit_prior=True)"
            ]
          },
          "metadata": {
            "tags": []
          },
          "execution_count": 63
        }
      ]
    },
    {
      "cell_type": "code",
      "metadata": {
        "id": "xeLdk0AUb6fN",
        "colab_type": "code",
        "colab": {}
      },
      "source": [
        "y_pred = clf.predict(tfidf_test)"
      ],
      "execution_count": 0,
      "outputs": []
    },
    {
      "cell_type": "code",
      "metadata": {
        "scrolled": true,
        "id": "B2kyEHKib6fO",
        "colab_type": "code",
        "outputId": "d8270ad6-8a6b-4851-8ca2-6ac669b9007d",
        "colab": {}
      },
      "source": [
        "# Score\n",
        "metrics.accuracy_score(y_test, y_pred)"
      ],
      "execution_count": 0,
      "outputs": [
        {
          "output_type": "execute_result",
          "data": {
            "text/plain": [
              "0.9711375212224108"
            ]
          },
          "metadata": {
            "tags": []
          },
          "execution_count": 65
        }
      ]
    },
    {
      "cell_type": "code",
      "metadata": {
        "id": "pYjPo1s7b6fa",
        "colab_type": "code",
        "colab": {}
      },
      "source": [
        "def predict_out():\n",
        "    temp = input('Enter Question : ')\n",
        "    temp = tfidf_vectorizer.transform([temp])\n",
        "    print('\\nYou are asking question about : ')\n",
        "    print('--------------------------------')\n",
        "    print(\"{}\".format(clf.predict(temp)[0]))\n",
        "    print('--------------------------------')"
      ],
      "execution_count": 0,
      "outputs": []
    },
    {
      "cell_type": "code",
      "metadata": {
        "scrolled": false,
        "id": "xk4_cRmDb6fc",
        "colab_type": "code",
        "outputId": "ec0eaa71-9d97-4f43-edac-890fac9eaa82",
        "colab": {}
      },
      "source": [
        "predict_out()"
      ],
      "execution_count": 0,
      "outputs": [
        {
          "output_type": "stream",
          "text": [
            "Enter Question : When I'll switch job?\n",
            "\n",
            "You are asking question about : \n",
            "--------------------------------\n",
            "Career\n",
            "--------------------------------\n"
          ],
          "name": "stdout"
        }
      ]
    },
    {
      "cell_type": "code",
      "metadata": {
        "id": "Jnge_9opb6ff",
        "colab_type": "code",
        "colab": {}
      },
      "source": [
        "# Load Test Dataset\n",
        "test = pd.read_csv('datasets/test.csv', index_col=0, names=['question'])"
      ],
      "execution_count": 0,
      "outputs": []
    },
    {
      "cell_type": "code",
      "metadata": {
        "scrolled": true,
        "id": "P7T2iwvub6fj",
        "colab_type": "code",
        "outputId": "727bc062-3a0e-46ec-c95e-d6de79133edb",
        "colab": {}
      },
      "source": [
        "test.head()"
      ],
      "execution_count": 0,
      "outputs": [
        {
          "output_type": "execute_result",
          "data": {
            "text/html": [
              "<div>\n",
              "<style scoped>\n",
              "    .dataframe tbody tr th:only-of-type {\n",
              "        vertical-align: middle;\n",
              "    }\n",
              "\n",
              "    .dataframe tbody tr th {\n",
              "        vertical-align: top;\n",
              "    }\n",
              "\n",
              "    .dataframe thead th {\n",
              "        text-align: right;\n",
              "    }\n",
              "</style>\n",
              "<table border=\"1\" class=\"dataframe\">\n",
              "  <thead>\n",
              "    <tr style=\"text-align: right;\">\n",
              "      <th></th>\n",
              "      <th>question</th>\n",
              "    </tr>\n",
              "  </thead>\n",
              "  <tbody>\n",
              "    <tr>\n",
              "      <td>244</td>\n",
              "      <td>Does my Kundali says about foreign travel?</td>\n",
              "    </tr>\n",
              "    <tr>\n",
              "      <td>242</td>\n",
              "      <td>Discribe something about my personality!</td>\n",
              "    </tr>\n",
              "    <tr>\n",
              "      <td>253</td>\n",
              "      <td>I want to about my finance position</td>\n",
              "    </tr>\n",
              "    <tr>\n",
              "      <td>252</td>\n",
              "      <td>how will my career be in coming years?</td>\n",
              "    </tr>\n",
              "    <tr>\n",
              "      <td>240</td>\n",
              "      <td>hello, Is my future prediction right...</td>\n",
              "    </tr>\n",
              "  </tbody>\n",
              "</table>\n",
              "</div>"
            ],
            "text/plain": [
              "                                       question\n",
              "244  Does my Kundali says about foreign travel?\n",
              "242    Discribe something about my personality!\n",
              "253         I want to about my finance position\n",
              "252      how will my career be in coming years?\n",
              "240     hello, Is my future prediction right..."
            ]
          },
          "metadata": {
            "tags": []
          },
          "execution_count": 79
        }
      ]
    },
    {
      "cell_type": "code",
      "metadata": {
        "id": "ygl5xYiub6fm",
        "colab_type": "code",
        "outputId": "f83d6098-6b6f-4e40-95ac-53a09f99cfef",
        "colab": {}
      },
      "source": [
        "clf.predict(tfidf_vectorizer.transform(test['question'].iloc[:10]))"
      ],
      "execution_count": 0,
      "outputs": [
        {
          "output_type": "execute_result",
          "data": {
            "text/plain": [
              "array(['Career', 'Partner', 'Career', 'Career', 'Spouse', 'Wealth',\n",
              "       'Partner', 'Partner', 'Partner', 'Partner'], dtype='<U12')"
            ]
          },
          "metadata": {
            "tags": []
          },
          "execution_count": 82
        }
      ]
    },
    {
      "cell_type": "code",
      "metadata": {
        "id": "VYQUQx82b6fo",
        "colab_type": "code",
        "outputId": "32ed3152-6416-40be-d880-3740bf63436e",
        "colab": {}
      },
      "source": [
        "pd.DataFrame({'question': test['question'].iloc[:10], 'category': clf.predict(tfidf_vectorizer.transform(test['question'].iloc[:10]))})"
      ],
      "execution_count": 0,
      "outputs": [
        {
          "output_type": "execute_result",
          "data": {
            "text/html": [
              "<div>\n",
              "<style scoped>\n",
              "    .dataframe tbody tr th:only-of-type {\n",
              "        vertical-align: middle;\n",
              "    }\n",
              "\n",
              "    .dataframe tbody tr th {\n",
              "        vertical-align: top;\n",
              "    }\n",
              "\n",
              "    .dataframe thead th {\n",
              "        text-align: right;\n",
              "    }\n",
              "</style>\n",
              "<table border=\"1\" class=\"dataframe\">\n",
              "  <thead>\n",
              "    <tr style=\"text-align: right;\">\n",
              "      <th></th>\n",
              "      <th>question</th>\n",
              "      <th>category</th>\n",
              "    </tr>\n",
              "  </thead>\n",
              "  <tbody>\n",
              "    <tr>\n",
              "      <td>244</td>\n",
              "      <td>Does my Kundali says about foreign travel?</td>\n",
              "      <td>Career</td>\n",
              "    </tr>\n",
              "    <tr>\n",
              "      <td>242</td>\n",
              "      <td>Discribe something about my personality!</td>\n",
              "      <td>Partner</td>\n",
              "    </tr>\n",
              "    <tr>\n",
              "      <td>253</td>\n",
              "      <td>I want to about my finance position</td>\n",
              "      <td>Career</td>\n",
              "    </tr>\n",
              "    <tr>\n",
              "      <td>252</td>\n",
              "      <td>how will my career be in coming years?</td>\n",
              "      <td>Career</td>\n",
              "    </tr>\n",
              "    <tr>\n",
              "      <td>240</td>\n",
              "      <td>hello, Is my future prediction right...</td>\n",
              "      <td>Spouse</td>\n",
              "    </tr>\n",
              "    <tr>\n",
              "      <td>248</td>\n",
              "      <td>is this day lucky for me?</td>\n",
              "      <td>Wealth</td>\n",
              "    </tr>\n",
              "    <tr>\n",
              "      <td>246</td>\n",
              "      <td>hello. how are you doing</td>\n",
              "      <td>Partner</td>\n",
              "    </tr>\n",
              "    <tr>\n",
              "      <td>247</td>\n",
              "      <td>when i will get married</td>\n",
              "      <td>Partner</td>\n",
              "    </tr>\n",
              "    <tr>\n",
              "      <td>255</td>\n",
              "      <td>helloo...i have done this for testing purpose</td>\n",
              "      <td>Partner</td>\n",
              "    </tr>\n",
              "    <tr>\n",
              "      <td>256</td>\n",
              "      <td>will i ever win a lottery?</td>\n",
              "      <td>Partner</td>\n",
              "    </tr>\n",
              "  </tbody>\n",
              "</table>\n",
              "</div>"
            ],
            "text/plain": [
              "                                          question category\n",
              "244     Does my Kundali says about foreign travel?   Career\n",
              "242       Discribe something about my personality!  Partner\n",
              "253            I want to about my finance position   Career\n",
              "252         how will my career be in coming years?   Career\n",
              "240        hello, Is my future prediction right...   Spouse\n",
              "248                      is this day lucky for me?   Wealth\n",
              "246                       hello. how are you doing  Partner\n",
              "247                        when i will get married  Partner\n",
              "255  helloo...i have done this for testing purpose  Partner\n",
              "256                     will i ever win a lottery?  Partner"
            ]
          },
          "metadata": {
            "tags": []
          },
          "execution_count": 85
        }
      ]
    },
    {
      "cell_type": "code",
      "metadata": {
        "id": "dkAKNlIzb6fq",
        "colab_type": "code",
        "colab": {}
      },
      "source": [
        ""
      ],
      "execution_count": 0,
      "outputs": []
    }
  ]
}